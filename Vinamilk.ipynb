{
  "cells": [
    {
      "cell_type": "markdown",
      "metadata": {
        "id": "QbVTl6cX91f6"
      },
      "source": [
        "# Bước 1: Import thư viện"
      ]
    },
    {
      "cell_type": "code",
      "execution_count": 14,
      "metadata": {
        "id": "zeJLJwk89YIG"
      },
      "outputs": [],
      "source": [
        "import pandas as pd #đọc dữ liệu\n",
        "import numpy as np #xử lý dữ liệu\n",
        "import math\n",
        "import datetime as dt\n",
        "import matplotlib.pyplot as plt #vẽ biểu đồ\n",
        "import seaborn as sb\n",
        "\n",
        "import tensorflow as tf\n",
        "from tensorflow.keras.models import Sequential\n",
        "from tensorflow.keras.layers import Dense, Dropout\n",
        "from tensorflow.keras.layers import LSTM, GRU\n",
        "from tensorflow.keras.models import load_model #tải mô hình\n",
        "from tensorflow.keras.layers import Conv1D, MaxPooling1D, Flatten\n",
        "\n",
        "# Các lớp để xây dựng mô hình\n",
        "from keras.models import Sequential #đầu vào\n",
        "from keras.layers import LSTM \n",
        "from keras.layers import SimpleRNN\n",
        "from keras.layers import Dropout #tránh học tủ\n",
        "from keras.layers import Dense #đầu ra\n",
        "from keras.callbacks import ModelCheckpoint #lưu lại huấn luyện tốt nhất\n",
        "\n",
        "# Kiểm tra độ chính xác của mô hình\n",
        "from sklearn.metrics import r2_score #đo mức độ phù hợp\n",
        "from sklearn.metrics import mean_squared_error, mean_absolute_error, explained_variance_score, r2_score  \n",
        "from sklearn.metrics import mean_absolute_percentage_error #đo % sai số tuyệt đối trung bình\n",
        "from sklearn.metrics import mean_poisson_deviance, mean_gamma_deviance, accuracy_score\n",
        "from sklearn.preprocessing import MinMaxScaler\n",
        "from sklearn.model_selection import train_test_split \n",
        "\n",
        "from itertools import cycle\n",
        "import plotly.graph_objects as go\n",
        "import plotly.express as px\n",
        "from plotly.subplots import make_subplots"
      ]
    },
    {
      "cell_type": "markdown",
      "metadata": {
        "id": "NpxolYlY98tM"
      },
      "source": [
        "# Bước 2: Đọc dữ liệu"
      ]
    },
    {
      "cell_type": "code",
      "execution_count": 16,
      "metadata": {
        "id": "seE5QAoV-dpj"
      },
      "outputs": [],
      "source": [
        "# đọc dữ liệu từ file csv\n",
        "df = pd.read_csv('Dữ liệu Lịch sử VNM 2013_2023.csv')"
      ]
    },
    {
      "cell_type": "code",
      "execution_count": null,
      "metadata": {},
      "outputs": [],
      "source": [
        "df"
      ]
    },
    {
      "cell_type": "code",
      "execution_count": 18,
      "metadata": {},
      "outputs": [],
      "source": [
        "# Xóa hai dòng \"KL\" và \"Thay đổi %\" từ DataFrame dataSet\n",
        "df = df.drop(columns=[\"KL\", \"% Thay đổi\"])"
      ]
    },
    {
      "cell_type": "code",
      "execution_count": null,
      "metadata": {},
      "outputs": [],
      "source": [
        "# Hiển thị lại DataFrame sau khi xóa\n",
        "\n",
        "df"
      ]
    },
    {
      "cell_type": "markdown",
      "metadata": {
        "id": "NiHTjeume5Qj"
      },
      "source": [
        "# Bước 3: Mô tả dữ liệu"
      ]
    },
    {
      "cell_type": "code",
      "execution_count": 20,
      "metadata": {
        "id": "EGPfWjRqeZcS"
      },
      "outputs": [],
      "source": [
        "#định dạng cấu trúc thời gian\n",
        "df[\"Ngày\"] = pd.to_datetime(df.Ngày,format=\"%d/%m/%Y\")"
      ]
    },
    {
      "cell_type": "code",
      "execution_count": 21,
      "metadata": {
        "id": "T638fE9SfW7j"
      },
      "outputs": [
        {
          "data": {
            "text/plain": [
              "(2505, 5)"
            ]
          },
          "execution_count": 21,
          "metadata": {},
          "output_type": "execute_result"
        }
      ],
      "source": [
        "#kích thước dữ liệu\n",
        "df.shape"
      ]
    },
    {
      "cell_type": "code",
      "execution_count": null,
      "metadata": {
        "id": "RFc_J3u4fjEi"
      },
      "outputs": [],
      "source": [
        "#dữ liệu 5 dòng đầu\n",
        "df.head()"
      ]
    },
    {
      "cell_type": "code",
      "execution_count": null,
      "metadata": {
        "id": "n1UD6MUZgBJ6"
      },
      "outputs": [],
      "source": [
        "#xác định kiểu dữ liệu\n",
        "df.info()"
      ]
    },
    {
      "cell_type": "code",
      "execution_count": null,
      "metadata": {},
      "outputs": [],
      "source": [
        "# Xem khoảng thời gian của bộ dữ liệu\n",
        "print(\"Ngày đầu tiên trong bộ dữ liệu: \", df.iloc[-1][0])\n",
        "print(\"Ngày cuối cùng trong bộ dữ liệu: \",df.iloc[0][0])\n",
        "print(\"Khoảng thời gian: \", df.iloc[0][0]-df.iloc[-1][0])"
      ]
    },
    {
      "cell_type": "code",
      "execution_count": null,
      "metadata": {
        "id": "dqaLE79gg-1u"
      },
      "outputs": [],
      "source": [
        "#mô tả bộ dữ liệu\n",
        "df.describe()"
      ]
    },
    {
      "cell_type": "markdown",
      "metadata": {
        "id": "TVi1EruRhGYm"
      },
      "source": [
        "# Bước 4: Tiền xử lý dữ liệu"
      ]
    },
    {
      "cell_type": "code",
      "execution_count": null,
      "metadata": {},
      "outputs": [],
      "source": [
        "from matplotlib.dates import YearLocator, DateFormatter, MonthLocator # Thêm MonthLocator vào để sửa lỗi\n",
        "\n",
        "# Chuyển đổi cột \"Ngày\" sang dạng datetime\n",
        "df['Ngày'] = pd.to_datetime(df['Ngày'], format='%d/%m/%Y')\n",
        "\n",
        "# Sắp xếp lại dữ liệu theo thứ tự thời gian\n",
        "df = df.sort_values(by='Ngày')\n",
        "\n",
        "# Chuyển đổi định dạng các cột giá thành số thực\n",
        "df['Đóng cửa'] = df['Đóng cửa'].str.replace(',', '').astype(float)\n",
        "df['Mở cửa'] = df['Mở cửa'].str.replace(',', '').astype(float)\n",
        "df['Cao nhất'] = df['Cao nhất'].str.replace(',', '').astype(float)\n",
        "df['Thấp nhất'] = df['Thấp nhất'].str.replace(',', '').astype(float)\n",
        "\n",
        "# Lấy thông tin năm từ cột \"Ngày\"\n",
        "df['Năm'] = df['Ngày'].dt.year\n",
        "\n",
        "# Tạo đồ thị giá đóng cửa qua các năm\n",
        "plt.figure(figsize=(10, 5))\n",
        "plt.plot(df['Ngày'], df['Đóng cửa'], label='Giá đóng cửa', color='red')\n",
        "plt.xlabel('Năm')\n",
        "plt.ylabel('Giá đóng cửa')\n",
        "plt.title('Biểu đồ giá đóng cửa của VNM qua các năm')\n",
        "plt.legend(loc='best')\n",
        "\n",
        "# Định dạng đồ thị hiển thị các ngày tháng theo năm-tháng\n",
        "years = YearLocator()\n",
        "yearsFmt = DateFormatter('%Y')\n",
        "months = MonthLocator()  # Thêm dòng này để khai báo MonthLocator\n",
        "plt.gca().xaxis.set_major_locator(years)\n",
        "plt.gca().xaxis.set_major_formatter(yearsFmt)\n",
        "plt.gca().xaxis.set_minor_locator(months)\n",
        "\n",
        "plt.tight_layout()\n",
        "plt.show()\n"
      ]
    },
    {
      "cell_type": "code",
      "execution_count": null,
      "metadata": {},
      "outputs": [],
      "source": [
        "features = ['Mở cửa', 'Đóng cửa', 'Cao nhất', 'Thấp nhất']\n",
        " \n",
        "plt.subplots(figsize=(20,10))\n",
        " \n",
        "for i, col in enumerate(features):\n",
        "  plt.subplot(2,3,i+1)\n",
        "  sb.distplot(df[col])\n",
        "plt.show()"
      ]
    },
    {
      "cell_type": "markdown",
      "metadata": {},
      "source": [
        "Trong biểu đồ phân phối dữ liệu OHLC, chúng ta có thể thấy hai đỉnh có nghĩa là dữ liệu đã thay đổi đáng kể ở hai vùng. Và dữ liệu có xu hướng bị lệch trái."
      ]
    },
    {
      "cell_type": "code",
      "execution_count": 28,
      "metadata": {
        "id": "-1EDodE3H7hl"
      },
      "outputs": [
        {
          "data": {
            "text/html": [
              "<div>\n",
              "<style scoped>\n",
              "    .dataframe tbody tr th:only-of-type {\n",
              "        vertical-align: middle;\n",
              "    }\n",
              "\n",
              "    .dataframe tbody tr th {\n",
              "        vertical-align: top;\n",
              "    }\n",
              "\n",
              "    .dataframe thead th {\n",
              "        text-align: right;\n",
              "    }\n",
              "</style>\n",
              "<table border=\"1\" class=\"dataframe\">\n",
              "  <thead>\n",
              "    <tr style=\"text-align: right;\">\n",
              "      <th></th>\n",
              "      <th>Đóng cửa</th>\n",
              "    </tr>\n",
              "    <tr>\n",
              "      <th>Ngày</th>\n",
              "      <th></th>\n",
              "    </tr>\n",
              "  </thead>\n",
              "  <tbody>\n",
              "    <tr>\n",
              "      <th>2013-07-10</th>\n",
              "      <td>94444.0</td>\n",
              "    </tr>\n",
              "    <tr>\n",
              "      <th>2013-07-11</th>\n",
              "      <td>94444.0</td>\n",
              "    </tr>\n",
              "    <tr>\n",
              "      <th>2013-07-12</th>\n",
              "      <td>95139.0</td>\n",
              "    </tr>\n",
              "    <tr>\n",
              "      <th>2013-07-15</th>\n",
              "      <td>95139.0</td>\n",
              "    </tr>\n",
              "    <tr>\n",
              "      <th>2013-07-16</th>\n",
              "      <td>96528.0</td>\n",
              "    </tr>\n",
              "    <tr>\n",
              "      <th>...</th>\n",
              "      <td>...</td>\n",
              "    </tr>\n",
              "    <tr>\n",
              "      <th>2023-07-17</th>\n",
              "      <td>72300.0</td>\n",
              "    </tr>\n",
              "    <tr>\n",
              "      <th>2023-07-18</th>\n",
              "      <td>72400.0</td>\n",
              "    </tr>\n",
              "    <tr>\n",
              "      <th>2023-07-19</th>\n",
              "      <td>72600.0</td>\n",
              "    </tr>\n",
              "    <tr>\n",
              "      <th>2023-07-20</th>\n",
              "      <td>72700.0</td>\n",
              "    </tr>\n",
              "    <tr>\n",
              "      <th>2023-07-21</th>\n",
              "      <td>73500.0</td>\n",
              "    </tr>\n",
              "  </tbody>\n",
              "</table>\n",
              "<p>2505 rows × 1 columns</p>\n",
              "</div>"
            ],
            "text/plain": [
              "            Đóng cửa\n",
              "Ngày                \n",
              "2013-07-10   94444.0\n",
              "2013-07-11   94444.0\n",
              "2013-07-12   95139.0\n",
              "2013-07-15   95139.0\n",
              "2013-07-16   96528.0\n",
              "...              ...\n",
              "2023-07-17   72300.0\n",
              "2023-07-18   72400.0\n",
              "2023-07-19   72600.0\n",
              "2023-07-20   72700.0\n",
              "2023-07-21   73500.0\n",
              "\n",
              "[2505 rows x 1 columns]"
            ]
          },
          "execution_count": 28,
          "metadata": {},
          "output_type": "execute_result"
        }
      ],
      "source": [
        "df1 = pd.DataFrame(df,columns=['Ngày','Đóng cửa'])\n",
        "df1.index = df1.Ngày\n",
        "df1.drop('Ngày',axis=1,inplace=True)\n",
        "df1"
      ]
    },
    {
      "cell_type": "markdown",
      "metadata": {},
      "source": [
        "## Chia tập dữ liệu"
      ]
    },
    {
      "cell_type": "code",
      "execution_count": 31,
      "metadata": {},
      "outputs": [
        {
          "data": {
            "text/html": [
              "<div>\n",
              "<style scoped>\n",
              "    .dataframe tbody tr th:only-of-type {\n",
              "        vertical-align: middle;\n",
              "    }\n",
              "\n",
              "    .dataframe tbody tr th {\n",
              "        vertical-align: top;\n",
              "    }\n",
              "\n",
              "    .dataframe thead th {\n",
              "        text-align: right;\n",
              "    }\n",
              "</style>\n",
              "<table border=\"1\" class=\"dataframe\">\n",
              "  <thead>\n",
              "    <tr style=\"text-align: right;\">\n",
              "      <th></th>\n",
              "      <th>Đóng cửa</th>\n",
              "    </tr>\n",
              "    <tr>\n",
              "      <th>Ngày</th>\n",
              "      <th></th>\n",
              "    </tr>\n",
              "  </thead>\n",
              "  <tbody>\n",
              "    <tr>\n",
              "      <th>2013-07-10</th>\n",
              "      <td>94444.0</td>\n",
              "    </tr>\n",
              "    <tr>\n",
              "      <th>2013-07-11</th>\n",
              "      <td>94444.0</td>\n",
              "    </tr>\n",
              "    <tr>\n",
              "      <th>2013-07-12</th>\n",
              "      <td>95139.0</td>\n",
              "    </tr>\n",
              "    <tr>\n",
              "      <th>2013-07-15</th>\n",
              "      <td>95139.0</td>\n",
              "    </tr>\n",
              "    <tr>\n",
              "      <th>2013-07-16</th>\n",
              "      <td>96528.0</td>\n",
              "    </tr>\n",
              "  </tbody>\n",
              "</table>\n",
              "</div>"
            ],
            "text/plain": [
              "            Đóng cửa\n",
              "Ngày                \n",
              "2013-07-10   94444.0\n",
              "2013-07-11   94444.0\n",
              "2013-07-12   95139.0\n",
              "2013-07-15   95139.0\n",
              "2013-07-16   96528.0"
            ]
          },
          "execution_count": 31,
          "metadata": {},
          "output_type": "execute_result"
        }
      ],
      "source": [
        "df1.head()"
      ]
    },
    {
      "cell_type": "code",
      "execution_count": null,
      "metadata": {},
      "outputs": [],
      "source": [
        "\n",
        "data = df1['Đóng cửa'] \n",
        "  \n",
        "# using the train test split function \n",
        "train_data, test_data = train_test_split(data , \n",
        "\t\t\t\t\t\t\t\trandom_state=104, \n",
        "\t\t\t\t\t\t\t\ttest_size=0.2, \n",
        "\t\t\t\t\t\t\t\tshuffle=True) \n",
        "\n",
        "# printing out train and test sets \n",
        "\n",
        "print('data_train : ') \n",
        "print(train_data.head()) \n",
        "print(train_data.shape)\n",
        "print('') \n",
        "print('data_test : ') \n",
        "print(test_data.head())\n",
        "print(test_data.shape) \n",
        "print('') \n"
      ]
    },
    {
      "cell_type": "markdown",
      "metadata": {},
      "source": [
        "## Chuẩn hóa dữ liệu"
      ]
    },
    {
      "cell_type": "code",
      "execution_count": 35,
      "metadata": {
        "id": "dIepxXreL0gq"
      },
      "outputs": [],
      "source": [
        "sc = MinMaxScaler(feature_range=(0,1))\n",
        "sc_train = sc.fit_transform(df1.values)"
      ]
    },
    {
      "cell_type": "markdown",
      "metadata": {},
      "source": [
        "## Tạo tập x_train và y_train"
      ]
    },
    {
      "cell_type": "code",
      "execution_count": 36,
      "metadata": {
        "id": "G_GVD_Y9M4lz"
      },
      "outputs": [],
      "source": [
        "x_train,y_train=[],[]\n",
        "for i in range(50,len(train_data)):\n",
        "  x_train.append(sc_train[i-50:i,0]) # giá đóng cửa 50 ngày cuối cùng trong tệp dữ liệu\n",
        "  y_train.append(sc_train[i,0]) #lấy ra giá đóng cửa ngày hôm sau"
      ]
    },
    {
      "cell_type": "code",
      "execution_count": null,
      "metadata": {
        "id": "u1JB9h6nOm-O"
      },
      "outputs": [],
      "source": [
        "x_train #x_train là một chuỗi các giá trị đóng cửa liên tiếp trong quá khứ."
      ]
    },
    {
      "cell_type": "code",
      "execution_count": null,
      "metadata": {
        "id": "-IsFG1V6OpUR"
      },
      "outputs": [],
      "source": [
        "y_train #y_train chứa giá trị đóng cửa  tiếp theo mà mô hình dự đoán. "
      ]
    },
    {
      "cell_type": "code",
      "execution_count": 39,
      "metadata": {
        "id": "WqY0hs1ZO0Tp"
      },
      "outputs": [],
      "source": [
        "#xếp dữ liệu thành 1 mảng 2 chiều\n",
        "x_train = np.array(x_train)\n",
        "y_train = np.array(y_train)"
      ]
    },
    {
      "cell_type": "code",
      "execution_count": 40,
      "metadata": {},
      "outputs": [],
      "source": [
        "#xếp lại dữ liệu thành mảng 1 chiều\n",
        "x_train = np.reshape(x_train,(x_train.shape[0],x_train.shape[1],1))\n",
        "y_train = np.reshape(y_train,(y_train.shape[0],1))"
      ]
    },
    {
      "cell_type": "markdown",
      "metadata": {
        "id": "m31wSZ5FRmcs"
      },
      "source": [
        "# Bước 5: Xây dựng và huấn luyện mô hình"
      ]
    },
    {
      "cell_type": "markdown",
      "metadata": {},
      "source": [
        "## 5.1.MÔ HÌNH RNN"
      ]
    },
    {
      "cell_type": "markdown",
      "metadata": {},
      "source": [
        "### Xây dựng mô hình RNN"
      ]
    },
    {
      "cell_type": "code",
      "execution_count": null,
      "metadata": {},
      "outputs": [],
      "source": [
        "regressor = Sequential()\n",
        "\n",
        "# Lớp thứ nhất của RNN\n",
        "regressor.add(\n",
        "    SimpleRNN(units = 50,\n",
        "              activation = \"tanh\", # Hàm kích hoạt được sử dụng là tanh\n",
        "              return_sequences = True, # Layer này sẽ trả về chuỗi đầu ra cho mỗi bước trong chuỗi đầu vào.\n",
        "              input_shape = (x_train.shape[1],1))\n",
        "              # Xác định kích thước của đầu vào. Trong trường hợp này, đầu vào có kích thước là (số lượng bước thời gian, số chiều của mỗi bước thời gian), với số chiều là 1.\n",
        "             )\n",
        "\n",
        "regressor.add(\n",
        "    Dropout(0.2)\n",
        "             )\n",
        "\n",
        "# Lớp thứ hai RNN\n",
        "regressor.add(\n",
        "    SimpleRNN(units = 50,\n",
        "              activation = \"tanh\",\n",
        "              return_sequences = True)\n",
        "             )\n",
        "\n",
        "regressor.add(\n",
        "    Dropout(0.2)\n",
        "             )\n",
        "\n",
        "# Lớp thứ ba RNN\n",
        "regressor.add(\n",
        "    SimpleRNN(units = 50,\n",
        "              activation = \"tanh\",\n",
        "              return_sequences = True)\n",
        "             )\n",
        "\n",
        "regressor.add(\n",
        "    Dropout(0.2)\n",
        "             )\n",
        "\n",
        "# Lớp thứ tư RNN\n",
        "regressor.add(\n",
        "    SimpleRNN(units = 50)\n",
        "             )\n",
        "\n",
        "regressor.add(\n",
        "    Dropout(0.2)\n",
        "             )\n",
        "\n",
        "# Thêm lớp đầu ra\n",
        "regressor.add(Dense(units = 1))\n",
        "\n",
        "# Đo sai số giá trị trung bình của bình phương chênh lệch giữa dự đoán và giá trị thực tế, có sử dụng trình tối ưu hóa adam\n",
        "regressor.compile(\n",
        "    optimizer = \"adam\",\n",
        "    loss = \"mse\",\n",
        "    metrics = [\"accuracy\"])"
      ]
    },
    {
      "cell_type": "markdown",
      "metadata": {},
      "source": [
        "### Huấn luyện dữ liệu "
      ]
    },
    {
      "cell_type": "code",
      "execution_count": null,
      "metadata": {},
      "outputs": [],
      "source": [
        "save_rnn_model = \"save_model.hdf5\"\n",
        "best_rnn_model = ModelCheckpoint(save_rnn_model,monitor='loss',verbose=2,save_best_only=True,mode='auto')\n",
        "history = regressor.fit(x_train,y_train,epochs=50,batch_size=50,verbose=2,callbacks=[best_rnn_model])"
      ]
    },
    {
      "cell_type": "markdown",
      "metadata": {},
      "source": [
        "### Kiểm tra và sử dụng mô hình"
      ]
    },
    {
      "cell_type": "code",
      "execution_count": null,
      "metadata": {},
      "outputs": [],
      "source": [
        "plt.figure(figsize =(10,5))\n",
        "plt.plot(history.history[\"accuracy\"])\n",
        "#Accuracy là tỉ lệ phần trăm của số lượng dự đoán đúng trên tổng số dự đoán. Nó là một phép đo quan trọng để đánh giá hiệu suất của mô hình trên dữ liệu.\n",
        "plt.xlabel(\"Epochs\")\n",
        "plt.ylabel(\"Accuracies\")\n",
        "plt.title(\"Mô hình RNN, Accuracy và Epoch\")\n",
        "plt.show()"
      ]
    },
    {
      "cell_type": "code",
      "execution_count": null,
      "metadata": {},
      "outputs": [],
      "source": [
        "#Mô hình chỉ số loss\n",
        "plt.figure(figsize =(10,7))\n",
        "plt.plot(history.history[\"loss\"])\n",
        "#Loss là một số đo đánh giá mức độ sai lệch giữa giá trị dự đoán của mô hình và giá trị thực tế\n",
        "plt.xlabel(\"Epochs\")\n",
        "plt.ylabel(\"Losses\")\n",
        "plt.title(\"Mô hình RNN, Loss và Epoch\")\n",
        "plt.show()\n"
      ]
    },
    {
      "cell_type": "code",
      "execution_count": null,
      "metadata": {},
      "outputs": [],
      "source": [
        "#dữ liệu train\n",
        "y_train = sc.inverse_transform(y_train) #giá thực\n",
        "final_model = load_model(\"save_model.hdf5\")\n",
        "rnn_train_predict = final_model.predict(x_train) #dự đoán giá đóng cửa trên tập đã train\n",
        "rnn_train_predict = sc.inverse_transform(rnn_train_predict) #giá dự đoán"
      ]
    },
    {
      "cell_type": "code",
      "execution_count": null,
      "metadata": {},
      "outputs": [],
      "source": [
        "#xử lý dữ liệu test\n",
        "test_rnn = df1[len(train_data)-50:].values\n",
        "test_rnn = test_rnn.reshape(-1,1)\n",
        "rnn_sc_test = sc.transform(test_rnn)\n",
        "\n",
        "x_test_rnn = []\n",
        "for i in range(50,test_rnn.shape[0]):\n",
        "  x_test_rnn.append(rnn_sc_test[i-50:i,0])\n",
        "x_test_rnn = np.array(x_test_rnn)\n",
        "x_test_rnn = np.reshape(x_test_rnn,(x_test_rnn.shape[0],x_test_rnn.shape[1],1))\n",
        "\n",
        "#dữ liệu test\n",
        "y_test_rnn = data[1954:] #giá thực\n",
        "y_test_predict_rnn = final_model.predict(x_test_rnn)\n",
        "y_test_predict_rnn = sc.inverse_transform(y_test_predict_rnn) #giá dự đoán\n",
        "\n",
        "# Kiểm tra và cắt bớt mẫu\n",
        "min_length = min(len(y_test_rnn), len(y_test_predict_rnn))\n",
        "y_test_rnn = y_test_rnn[:min_length]\n",
        "y_test_predict_rnn = y_test_predict_rnn[:min_length]\n"
      ]
    },
    {
      "cell_type": "code",
      "execution_count": null,
      "metadata": {},
      "outputs": [],
      "source": [
        "#lập biểu đồ so sánh\n",
        "train_data_rnn = df1[50:2004]\n",
        "test_data_rnn = df1[2004:]\n",
        "\n",
        "plt.figure(figsize=(10,5))\n",
        "plt.plot(df1,label='Giá thực tế',color='red') #đường giá thực\n",
        "train_data_rnn['Dự đoán'] = rnn_train_predict #thêm dữ liệu\n",
        "plt.plot(train_data_rnn['Dự đoán'],label='Giá dự đoán train',color='green') #đường giá dự báo train\n",
        "test_data_rnn['Dự đoán'] = y_test_predict_rnn #thêm dữ liệu\n",
        "plt.plot(test_data_rnn['Dự đoán'],label='Giá dự đoán test',color='blue') #đường giá dự báo test\n",
        "plt.title('So sánh giá dự báo và giá thực tế') #đặt tên biểu đồ\n",
        "plt.xlabel('Năm') #đặt tên hàm x\n",
        "plt.ylabel('Giá đóng cửa (VNĐ)') #đặt tên hàm y\n",
        "plt.legend() #chú thích\n",
        "plt.show()"
      ]
    },
    {
      "cell_type": "code",
      "execution_count": null,
      "metadata": {},
      "outputs": [],
      "source": [
        "# Các chỉ số đánh giá sự hiệu quả trong dự đoán của mô hình dựa trên tập train\n",
        "\n",
        "print('Độ phù hợp tập train:',r2_score(y_train,rnn_train_predict))\n",
        "\n",
        "print('Sai số tuyệt đối trung bình trên tập train (VNĐ):',mean_absolute_error(y_train,rnn_train_predict))\n",
        "\n",
        "print('Phần trăm sai số tuyệt đối trung bình tập train:',mean_absolute_percentage_error(y_train,rnn_train_predict))"
      ]
    },
    {
      "cell_type": "code",
      "execution_count": null,
      "metadata": {},
      "outputs": [],
      "source": [
        "# Bảng giá dự đoán dựa trên tập train\n",
        "train_data_rnn"
      ]
    },
    {
      "cell_type": "code",
      "execution_count": null,
      "metadata": {},
      "outputs": [],
      "source": [
        "# Các chỉ số đánh giá sự hiệu quả trong dự đoán của mô hình dựa trên tập test\n",
        "\n",
        "#r2\n",
        "print('Độ phù hợp tập test:',r2_score(y_test_predict_rnn, y_test_rnn))\n",
        "\n",
        "#mae\n",
        "print('Sai số tuyệt đối trung bình trên tập test (VNĐ):',mean_absolute_error(y_test_rnn,y_test_predict_rnn))\n",
        "\n",
        "#mape\n",
        "print('Phần trăm sai số tuyệt đối trung bình tập test:',mean_absolute_percentage_error(y_test_rnn,y_test_predict_rnn))"
      ]
    },
    {
      "cell_type": "code",
      "execution_count": null,
      "metadata": {},
      "outputs": [],
      "source": [
        "# Bảng giá dự đoán dựa trên tập test\n",
        "test_data_rnn"
      ]
    },
    {
      "cell_type": "markdown",
      "metadata": {},
      "source": [
        "## 5.2.MÔ HÌNH LSTM"
      ]
    },
    {
      "cell_type": "markdown",
      "metadata": {},
      "source": [
        "### Xây dựng mô hình LSTM"
      ]
    },
    {
      "cell_type": "code",
      "execution_count": null,
      "metadata": {},
      "outputs": [],
      "source": [
        "#Xây dựng mô hình\n",
        "\n",
        "model = Sequential()\n",
        "model.add(LSTM(units=128, input_shape = (x_train.shape[1],1), return_sequences=True))\n",
        "model.add(LSTM(units=64))\n",
        "model.add(Dropout(0,5))\n",
        "model.add(Dense(1))\n",
        "model.compile(loss = 'mean_absolute_error', optimizer = 'adam')"
      ]
    },
    {
      "cell_type": "markdown",
      "metadata": {},
      "source": [
        "### Huấn luyện dữ liệu"
      ]
    },
    {
      "cell_type": "code",
      "execution_count": null,
      "metadata": {},
      "outputs": [],
      "source": [
        "#Huấn luyện mô hình\n",
        "save_model = 'save_model.hdf5'\n",
        "best_model = ModelCheckpoint(save_model, monitor = 'loss', verbose = 2, save_best_only=True, mode = 'auto')\n",
        "history2 = model.fit(x_train, y_train, epochs=50, batch_size=50, verbose=2, callbacks=[best_model])"
      ]
    },
    {
      "cell_type": "markdown",
      "metadata": {},
      "source": [
        "## Kiểm tra và sử dụng mô hình"
      ]
    },
    {
      "cell_type": "markdown",
      "metadata": {},
      "source": [
        "Vẽ biểu đồ (plot) giá trị của độ đo \"accuracy\" trên tập huấn luyện qua các epoch (vòng lặp huấn luyện). Biểu đồ accuracy cung cấp cái nhìn quan trọng về hiệu suất của mô hình và giúp quyết định liệu là mô hình đã đủ tốt để triển khai hay chưa."
      ]
    },
    {
      "cell_type": "code",
      "execution_count": null,
      "metadata": {},
      "outputs": [],
      "source": [
        "plt.figure(figsize =(10,7))\n",
        "plt.plot(history2.history[\"loss\"]) \n",
        "#Loss là một số đo đánh giá mức độ sai lệch giữa giá trị dự đoán của mô hình và giá trị thực tế\n",
        "plt.xlabel(\"Epochs\")\n",
        "plt.ylabel(\"Losses\")\n",
        "plt.title(\"Mô hình LSTM, Loss và Epoch\")\n",
        "plt.show()"
      ]
    },
    {
      "cell_type": "code",
      "execution_count": null,
      "metadata": {},
      "outputs": [],
      "source": [
        "#Dữ liệu train\n",
        "y_train = sc.inverse_transform(y_train)  # giá thực\n",
        "final_model = load_model('save_model.hdf5')\n",
        "y_train_predict = final_model.predict(x_train)\n",
        "y_train_predict = sc.inverse_transform(y_train_predict)  # gía dự đoán"
      ]
    },
    {
      "cell_type": "code",
      "execution_count": null,
      "metadata": {},
      "outputs": [],
      "source": [
        "#xử lý dữ liệu test\n",
        "test = df1[len(train_data)-50:].values\n",
        "test = test.reshape(-1,1)\n",
        "sc_test = sc.transform(test)\n",
        "\n",
        "x_test = []\n",
        "for i in range(50,test.shape[0]):\n",
        "  x_test.append(sc_test[i-50:i,0])\n",
        "x_test = np.array(x_test)\n",
        "x_test = np.reshape(x_test,(x_test.shape[0],x_test.shape[1],1))\n",
        "\n",
        "#dữ liệu test\n",
        "y_test = data[1954:] #giá thực\n",
        "y_test_predict = final_model.predict(x_test)\n",
        "y_test_predict = sc.inverse_transform(y_test_predict) #giá dự đoán\n",
        "\n",
        "# Kiểm tra và cắt bớt mẫu \n",
        "min_length = min(len(y_test), len(y_test_predict))\n",
        "y_test = y_test[:min_length]\n",
        "y_test_predict = y_test_predict[:min_length]\n"
      ]
    },
    {
      "cell_type": "code",
      "execution_count": null,
      "metadata": {},
      "outputs": [],
      "source": [
        "#lập biểu đồ so sánh\n",
        "train_data1 = df1[50:2004]\n",
        "test_data1 = df1[2004:]\n",
        "\n",
        "plt.figure(figsize=(24,8))\n",
        "plt.plot(df1,label='Giá thực tế',color='red') #đường giá thực\n",
        "train_data1['Dự đoán'] = y_train_predict #thêm dữ liệu\n",
        "plt.plot(train_data1['Dự đoán'],label='Giá dự đoán train',color='green') #đường giá dự báo train\n",
        "test_data1['Dự đoán'] = y_test_predict #thêm dữ liệu\n",
        "plt.plot(test_data1['Dự đoán'],label='Giá dự đoán test',color='blue') #đường giá dự báo test\n",
        "plt.title('So sánh giá dự báo và giá thực tế') #đặt tên biểu đồ\n",
        "plt.xlabel('Năm') #đặt tên hàm x\n",
        "plt.ylabel('Giá đóng cửa (VNĐ)') #đặt tên hàm y\n",
        "plt.legend() #chú thích\n",
        "plt.show()"
      ]
    },
    {
      "cell_type": "code",
      "execution_count": null,
      "metadata": {},
      "outputs": [],
      "source": [
        "print('Độ phù hợp của tập train:', r2_score(y_train,y_train_predict))\n",
        "print('Sai số tuyệt đối trung bình của tập train:', mean_absolute_error(y_train, y_train_predict))\n",
        "print('Phần trăm sai số tuyệt đối trung bình tập train:', mean_absolute_percentage_error(y_train, y_train_predict))"
      ]
    },
    {
      "cell_type": "code",
      "execution_count": null,
      "metadata": {},
      "outputs": [],
      "source": [
        "train_data1"
      ]
    },
    {
      "cell_type": "code",
      "execution_count": null,
      "metadata": {},
      "outputs": [],
      "source": [
        "print('Độ phù hợp của tập test:', r2_score(y_test,y_test_predict))\n",
        "print('Sai số tuyệt đối trung bình của tập test:', mean_absolute_error(y_test, y_test_predict))\n",
        "print('Phần trăm sai số tuyệt đối trung bình tập test:', mean_absolute_percentage_error(y_test, y_test_predict))"
      ]
    },
    {
      "cell_type": "code",
      "execution_count": null,
      "metadata": {},
      "outputs": [],
      "source": [
        "test_data1"
      ]
    },
    {
      "cell_type": "markdown",
      "metadata": {},
      "source": [
        "## 5.3.MÔ HÌNH GRU"
      ]
    },
    {
      "cell_type": "markdown",
      "metadata": {},
      "source": [
        "### Xây dựng mô hình"
      ]
    },
    {
      "cell_type": "code",
      "execution_count": null,
      "metadata": {},
      "outputs": [],
      "source": [
        "# # Chuẩn bị dữ liệu kiểm thử tương tự như dữ liệu huấn luyện\n",
        "# x_test, y_test = [], []\n",
        "\n",
        "# for i in range(50, len(test_data)):\n",
        "#     x_test.append(sc_test[i - 50:i, 0])\n",
        "#     y_test.append(sc_test[i, 0])\n",
        "\n",
        "# # Chuyển đổi dữ liệu kiểm thử thành mảng\n",
        "# x_test = np.array(x_test)\n",
        "# y_test = np.array(y_test)\n",
        "\n",
        "# # Reshape dữ liệu kiểm thử\n",
        "# x_test = np.reshape(x_test, (x_test.shape[0], x_test.shape[1], 1))\n",
        "# y_test = np.reshape(y_test, (y_test.shape[0], 1))\n",
        "# Tạo dữ liệu test cho mô hình\n",
        "x_test, y_test = [], []\n",
        "for i in range(50, len(test_data)):\n",
        "    x_test.append(sc_train[i - 50:i, 0])\n",
        "    y_test.append(sc_train[i, 0])\n",
        "\n",
        "x_test = np.array(x_test)\n",
        "y_test = np.array(y_test)\n",
        "x_test = np.reshape(x_test, (x_test.shape[0], x_test.shape[1], 1))\n",
        "y_test = np.reshape(y_test, (y_test.shape[0], 1))\n"
      ]
    },
    {
      "cell_type": "markdown",
      "metadata": {},
      "source": [
        "### Huấn luyện dữ liệu"
      ]
    },
    {
      "cell_type": "code",
      "execution_count": null,
      "metadata": {},
      "outputs": [],
      "source": [
        "history3 = model.fit(x_train,y_train,validation_data=(x_test,y_test),epochs=10,batch_size=32,verbose=1)"
      ]
    },
    {
      "cell_type": "markdown",
      "metadata": {},
      "source": [
        "### Kiểm tra và sử dụng mô hình"
      ]
    },
    {
      "cell_type": "code",
      "execution_count": null,
      "metadata": {},
      "outputs": [],
      "source": [
        "# # Tạo dữ liệu test cho mô hình\n",
        "# x_test, y_test = [], []\n",
        "# for i in range(50, len(test_data)):\n",
        "#     x_test.append(sc_train[i - 50:i, 0])\n",
        "#     y_test.append(sc_train[i, 0])\n",
        "\n",
        "# x_test = np.array(x_test)\n",
        "# y_test = np.array(y_test)\n",
        "# x_test = np.reshape(x_test, (x_test.shape[0], x_test.shape[1], 1))\n",
        "# y_test = np.reshape(y_test, (y_test.shape[0], 1))\n",
        "\n",
        "# Dự đoán giá đóng cửa trên tập test\n",
        "predicted_stock_price = model.predict(x_test)\n",
        "predicted_stock_price = sc.inverse_transform(predicted_stock_price)\n",
        "y_test = sc.inverse_transform(y_test)\n",
        "\n",
        "# Đánh giá mô hình\n",
        "r2 = r2_score(y_test, predicted_stock_price)\n",
        "mae = mean_absolute_error(y_test, predicted_stock_price)\n",
        "mape = mean_absolute_percentage_error(y_test, predicted_stock_price)\n",
        "\n",
        "# In các chỉ số đánh giá\n",
        "print(f'Mức độ phù hợp: {r2}')\n",
        "print(f'Độ sai số tuyệt đối trung bình của tập test: {mae}')\n",
        "print(f'Phần trăm sai số tuyệt đối trung bình của tập test: {mape}')\n",
        "\n",
        "# Hiển thị biểu đồ so sánh giá thực tế và giá dự đoán\n",
        "plt.figure(figsize=(10, 5))\n",
        "plt.plot(y_test, label='Actual Price', color='blue')\n",
        "plt.plot(predicted_stock_price, label='Predicted Price', color='red')\n",
        "plt.title('Actual vs Predicted Stock Price')\n",
        "plt.xlabel('Time')\n",
        "plt.ylabel('Stock Price')\n",
        "plt.legend(loc='best')\n",
        "plt.show()"
      ]
    },
    {
      "cell_type": "code",
      "execution_count": null,
      "metadata": {},
      "outputs": [],
      "source": [
        "plt.figure(figsize =(10,5))\n",
        "plt.plot(history3.history[\"loss\"])\n",
        "plt.xlabel(\"Epochs\")\n",
        "plt.ylabel(\"Losses\")\n",
        "plt.title(\"Mô hình GRU, Accuracy và Epoch\")\n",
        "plt.show()"
      ]
    },
    {
      "cell_type": "markdown",
      "metadata": {},
      "source": [
        "## 5.4.MÔ HÌNH CNN"
      ]
    },
    {
      "cell_type": "markdown",
      "metadata": {},
      "source": [
        "### Xây dựng mô hình CNN"
      ]
    },
    {
      "cell_type": "code",
      "execution_count": null,
      "metadata": {},
      "outputs": [],
      "source": [
        "# Xây dựng mô hình CNN\n",
        "model = Sequential()\n",
        "model.add(Conv1D(filters=64, kernel_size=2, activation='relu', input_shape=(50, 1)))\n",
        "model.add(MaxPooling1D(pool_size=2))\n",
        "model.add(Flatten())\n",
        "model.add(Dense(50, activation='relu'))\n",
        "model.add(Dense(1, activation='linear'))\n",
        "\n",
        "# Biên soạn mô hình\n",
        "model.compile(optimizer='adam', loss='mean_squared_error')\n"
      ]
    },
    {
      "cell_type": "markdown",
      "metadata": {},
      "source": [
        "### Huấn luyện mô hình"
      ]
    },
    {
      "cell_type": "code",
      "execution_count": null,
      "metadata": {},
      "outputs": [],
      "source": [
        "history4 = model.fit(x_train, y_train, epochs=50, batch_size=32)"
      ]
    },
    {
      "cell_type": "markdown",
      "metadata": {},
      "source": [
        "### Kiểm tra và sử dụng mô hình"
      ]
    },
    {
      "cell_type": "code",
      "execution_count": null,
      "metadata": {},
      "outputs": [],
      "source": [
        "plt.figure(figsize =(10,7))\n",
        "plt.plot(history4.history[\"loss\"])\n",
        "#Loss là một số đo đánh giá mức độ sai lệch giữa giá trị dự đoán của mô hình và giá trị thực tế\n",
        "plt.xlabel(\"Epochs\")\n",
        "plt.ylabel(\"Losses\")\n",
        "plt.title(\"Mô hình CNN, Loss và Epoch\")\n",
        "plt.show()"
      ]
    },
    {
      "cell_type": "code",
      "execution_count": null,
      "metadata": {},
      "outputs": [],
      "source": [
        "# Kiểm tra và sử dụng mô hình\n",
        "\n",
        "# Chuẩn bị dữ liệu train\n",
        "x_train, y_train = [], []\n",
        "for i in range(50, len(train_data)):\n",
        "    x_train.append(sc_train[i-50:i, 0])\n",
        "    y_train.append(sc_train[i, 0])\n",
        "\n",
        "x_train, y_train = np.array(x_train), np.array(y_train)\n",
        "\n",
        "# Reshape dữ liệu train\n",
        "x_train = np.reshape(x_train, (x_train.shape[0], x_train.shape[1], 1))\n",
        "\n",
        "# Dự đoán giá trên tập train\n",
        "predicted_prices_train = model.predict(x_train)\n",
        "predicted_prices_train = sc.inverse_transform(predicted_prices_train)\n",
        "\n",
        "# Chuyển ngược chuẩn hóa cho giá thực tế trên tập train\n",
        "y_train_actual = sc.inverse_transform(y_train.reshape(-1, 1))\n",
        "\n"
      ]
    },
    {
      "cell_type": "code",
      "execution_count": null,
      "metadata": {},
      "outputs": [],
      "source": [
        "# Đánh giá mô hình trên tập train\n",
        "mape_train = mean_absolute_percentage_error(y_train_actual, predicted_prices_train)\n",
        "mae_train = mean_absolute_error(y_train_actual, predicted_prices_train)\n",
        "r2_train = r2_score(y_train_actual, predicted_prices_train)\n",
        "\n",
        "print(\"Train Mean Absolute Percentage Error:\", mape_train)\n",
        "print(\"Train Mean Absolute Error:\", mae_train)\n",
        "print(\"Train R^2 Score:\", r2_train)\n"
      ]
    },
    {
      "cell_type": "code",
      "execution_count": null,
      "metadata": {},
      "outputs": [],
      "source": [
        "# Đánh giá mô hình trên tập test\n",
        "mape_test = mean_absolute_percentage_error(y_test, y_test_predict)\n",
        "mae_test = mean_absolute_error(y_test, y_test_predict)\n",
        "r2_test = r2_score(y_test, y_test_predict)\n",
        "\n",
        "print(\"Phần trăm sai số trung bình tập test:\", mape_test)\n",
        "print(\"Sai số tuyệt đối trung bình của tập test: \", mae_test)\n",
        "print(\"Độ phù hợp của tập test:\", r2_test)"
      ]
    }
  ],
  "metadata": {
    "colab": {
      "private_outputs": true,
      "provenance": []
    },
    "kernelspec": {
      "display_name": "Python 3",
      "name": "python3"
    },
    "language_info": {
      "codemirror_mode": {
        "name": "ipython",
        "version": 3
      },
      "file_extension": ".py",
      "mimetype": "text/x-python",
      "name": "python",
      "nbconvert_exporter": "python",
      "pygments_lexer": "ipython3",
      "version": "3.10.8"
    }
  },
  "nbformat": 4,
  "nbformat_minor": 0
}
